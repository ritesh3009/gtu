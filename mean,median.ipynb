{
 "cells": [
  {
   "cell_type": "code",
   "execution_count": 31,
   "id": "d4454d13",
   "metadata": {},
   "outputs": [
    {
     "data": {
      "text/plain": [
       "(15, 4)"
      ]
     },
     "execution_count": 31,
     "metadata": {},
     "output_type": "execute_result"
    }
   ],
   "source": [
    "import numpy as np\n",
    "import pandas as pd\n",
    "cric_data = np.loadtxt(\"cric.tsv\",skiprows=1)\n",
    "cric_data.shape"
   ]
  },
  {
   "cell_type": "code",
   "execution_count": 32,
   "id": "dd7d3be5",
   "metadata": {},
   "outputs": [
    {
     "data": {
      "text/plain": [
       "array([[  0., 100.,  78., 342.],\n",
       "       [  1.,  11.,  62., 191.],\n",
       "       [  2.,   8.,  85., 252.],\n",
       "       [  3.,  71.,  24., 307.],\n",
       "       [  4., 104.,  17., 229.],\n",
       "       [  5.,  18., 104., 246.],\n",
       "       [  6.,   8.,  76., 226.],\n",
       "       [  7.,  86.,  74., 288.],\n",
       "       [  8.,  12.,  60., 216.],\n",
       "       [  9.,  25.,  90., 304.],\n",
       "       [ 10.,  56.,   6., 272.],\n",
       "       [ 11.,  88.,  69., 302.],\n",
       "       [ 12., 147.,  65., 312.],\n",
       "       [ 13., 121., 146., 370.],\n",
       "       [ 15.,  99., 110., 362.]])"
      ]
     },
     "execution_count": 32,
     "metadata": {},
     "output_type": "execute_result"
    }
   ],
   "source": [
    "cric_data"
   ]
  },
  {
   "cell_type": "code",
   "execution_count": 33,
   "id": "db03c43c",
   "metadata": {},
   "outputs": [
    {
     "data": {
      "text/plain": [
       "array([100.,  11.,   8.,  71., 104.,  18.,   8.,  86.,  12.,  25.,  56.,\n",
       "        88., 147., 121.,  99.])"
      ]
     },
     "execution_count": 33,
     "metadata": {},
     "output_type": "execute_result"
    }
   ],
   "source": [
    "sachin = cric_data[:,1]\n",
    "sachin"
   ]
  },
  {
   "cell_type": "code",
   "execution_count": 34,
   "id": "487573a6",
   "metadata": {},
   "outputs": [
    {
     "data": {
      "text/plain": [
       "array([ 78.,  62.,  85.,  24.,  17., 104.,  76.,  74.,  60.,  90.,   6.,\n",
       "        69.,  65., 146., 110.])"
      ]
     },
     "execution_count": 34,
     "metadata": {},
     "output_type": "execute_result"
    }
   ],
   "source": [
    "rahul = cric_data[:,2]\n",
    "rahul"
   ]
  },
  {
   "cell_type": "code",
   "execution_count": 35,
   "id": "d3a37364",
   "metadata": {},
   "outputs": [
    {
     "data": {
      "text/plain": [
       "array([342., 191., 252., 307., 229., 246., 226., 288., 216., 304., 272.,\n",
       "       302., 312., 370., 362.])"
      ]
     },
     "execution_count": 35,
     "metadata": {},
     "output_type": "execute_result"
    }
   ],
   "source": [
    "dravid = cric_data[:,3]\n",
    "dravid"
   ]
  },
  {
   "cell_type": "code",
   "execution_count": 41,
   "id": "2b3dca42",
   "metadata": {},
   "outputs": [
    {
     "name": "stdout",
     "output_type": "stream",
     "text": [
      "63.6\n",
      "281.26666666666665\n",
      "71.06666666666666\n"
     ]
    }
   ],
   "source": [
    "print(np.mean(sachin))\n",
    "print(np.mean(dravid))\n",
    "print(np.mean(rahul))"
   ]
  },
  {
   "cell_type": "code",
   "execution_count": 43,
   "id": "de2099f4",
   "metadata": {},
   "outputs": [
    {
     "name": "stdout",
     "output_type": "stream",
     "text": [
      "71.0\n",
      "288.0\n",
      "74.0\n"
     ]
    }
   ],
   "source": [
    "print(np.median(sachin))\n",
    "print(np.median(dravid))\n",
    "print(np.median(rahul))"
   ]
  },
  {
   "cell_type": "code",
   "execution_count": null,
   "id": "2814afa5",
   "metadata": {},
   "outputs": [],
   "source": []
  }
 ],
 "metadata": {
  "kernelspec": {
   "display_name": "Python 3 (ipykernel)",
   "language": "python",
   "name": "python3"
  },
  "language_info": {
   "codemirror_mode": {
    "name": "ipython",
    "version": 3
   },
   "file_extension": ".py",
   "mimetype": "text/x-python",
   "name": "python",
   "nbconvert_exporter": "python",
   "pygments_lexer": "ipython3",
   "version": "3.9.13"
  }
 },
 "nbformat": 4,
 "nbformat_minor": 5
}
